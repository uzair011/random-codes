{
  "nbformat": 4,
  "nbformat_minor": 0,
  "metadata": {
    "colab": {
      "provenance": [],
      "authorship_tag": "ABX9TyPLiNTSrPuM53rtYkhhetE5",
      "include_colab_link": true
    },
    "kernelspec": {
      "name": "python3",
      "display_name": "Python 3"
    },
    "language_info": {
      "name": "python"
    }
  },
  "cells": [
    {
      "cell_type": "markdown",
      "metadata": {
        "id": "view-in-github",
        "colab_type": "text"
      },
      "source": [
        "<a href=\"https://colab.research.google.com/github/uzair011/random-codes/blob/main/dataannotation.ipynb\" target=\"_parent\"><img src=\"https://colab.research.google.com/assets/colab-badge.svg\" alt=\"Open In Colab\"/></a>"
      ]
    },
    {
      "cell_type": "code",
      "execution_count": 9,
      "metadata": {
        "colab": {
          "base_uri": "https://localhost:8080/"
        },
        "id": "z7LggMlFSjxZ",
        "outputId": "b6910fbc-6ebc-496a-b774-b3378911ca9a"
      },
      "outputs": [
        {
          "output_type": "stream",
          "name": "stdout",
          "text": [
            "██░    ███░ ██████░    ███████░     ██░     ██░     ██████████░ ████████░    ████████░  \n",
            "██░  ███░     ██░    ███░    ██░   ████░   ████░    ██░         ██░     ██░  ██░     ██░\n",
            "██░███░       ██░   ███░           ██░██░ ██░██░    ██░         ██░      ██░ ██░     ██░\n",
            "████░         ██░   ██░           ███░ ██░██░ ██░   ████████░   ██░      ██░ ████████░  \n",
            "██░███░       ██░   ███░          ██░  █████░ ███░  ██░         ██░      ██░ ██░     ██░\n",
            "██░  ███░     ██░    ███░    ██░ ███░   ███░   ██░  ██░         ██░     ██░  ██░     ██░\n",
            "██░    ███░ ██████░    ███████░  ██░           ███░ ██████████░ ████████░    ████████░  \n"
          ]
        }
      ],
      "source": [
        "import requests\n",
        "from bs4 import BeautifulSoup\n",
        "\n",
        "def decode_secret_message(doc_url):\n",
        "    # Step 1: Read the document content\n",
        "    response = requests.get(doc_url)\n",
        "    response.raise_for_status()\n",
        "    html = response.text\n",
        "\n",
        "    # Step 2: understand and extract data from the table\n",
        "    soup = BeautifulSoup(html, 'html.parser')\n",
        "    rows = soup.find_all('tr')\n",
        "\n",
        "    grid_data = []\n",
        "\n",
        "    for row in rows[1:]:  # Skip header\n",
        "        cols = row.find_all('td')\n",
        "        if len(cols) != 3:\n",
        "            continue\n",
        "        x = int(cols[0].get_text(strip=True))\n",
        "        char = cols[1].get_text(strip=True)\n",
        "        y = int(cols[2].get_text(strip=True))\n",
        "        grid_data.append((x, y, char))\n",
        "\n",
        "    if not grid_data:\n",
        "        print(\"No valid data found.\")\n",
        "        return\n",
        "\n",
        "    # Step 3: set grid size\n",
        "    max_x = max(x for x, y, c in grid_data)\n",
        "    max_y = max(y for x, y, c in grid_data)\n",
        "\n",
        "    # Step 4: Initialise grid with spaces\n",
        "    grid = [[' ' for _ in range(max_x + 1)] for _ in range(max_y + 1)]\n",
        "\n",
        "    # Step 5: Fill the grid\n",
        "    for x, y, char in grid_data:\n",
        "        grid[y][x] = char  # Note: y = row, x = column\n",
        "\n",
        "    # Step 6: Print the grid\n",
        "    for row in grid:\n",
        "        print(''.join(row))\n",
        "\n",
        "# Call the function with the URL\n",
        "decode_secret_message(\"https://docs.google.com/document/d/e/2PACX-1vTER-wL5E8YC9pxDx43gk8eIds59GtUUk4nJo_ZWagbnrH0NFvMXIw6VWFLpf5tWTZIT9P9oLIoFJ6A/pub\")\n"
      ]
    },
    {
      "cell_type": "code",
      "source": [
        "KICMEDB"
      ],
      "metadata": {
        "id": "g6Cprf7ZettY"
      },
      "execution_count": null,
      "outputs": []
    }
  ]
}